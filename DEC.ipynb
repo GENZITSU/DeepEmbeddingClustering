{
 "cells": [
  {
   "cell_type": "markdown",
   "metadata": {},
   "source": [
    "# Deep Embedding Clusteringを試してみたい"
   ]
  },
  {
   "cell_type": "markdown",
   "metadata": {},
   "source": [
    "## 基本的なライブラリ・関数"
   ]
  },
  {
   "cell_type": "code",
   "execution_count": 1,
   "metadata": {},
   "outputs": [
    {
     "name": "stderr",
     "output_type": "stream",
     "text": [
      "/home/k-syo/.pyenv/versions/anaconda3-5.1.0/lib/python3.6/site-packages/h5py/__init__.py:36: FutureWarning: Conversion of the second argument of issubdtype from `float` to `np.floating` is deprecated. In future, it will be treated as `np.float64 == np.dtype(float).type`.\n",
      "  from ._conv import register_converters as _register_converters\n",
      "Using TensorFlow backend.\n"
     ]
    },
    {
     "data": {
      "text/plain": [
       "'%.5f'"
      ]
     },
     "execution_count": 1,
     "metadata": {},
     "output_type": "execute_result"
    }
   ],
   "source": [
    "# jupyter 関係\n",
    "%reload_ext autoreload\n",
    "%autoreload 2\n",
    "%matplotlib inline\n",
    "\n",
    "# データ分析用\n",
    "import pandas as pd\n",
    "import numpy  as np\n",
    "import random\n",
    "\n",
    "# 機械学習用\n",
    "import keras\n",
    "\n",
    "# ファイル関係\n",
    "import glob\n",
    "import pickle\n",
    "import json\n",
    "\n",
    "# 描画関係\n",
    "import matplotlib.pyplot as plt\n",
    "\n",
    "# カラム全表示\n",
    "pd.set_option('max_columns',None)\n",
    "\n",
    "# 小数点の設定\n",
    "%precision 5"
   ]
  },
  {
   "cell_type": "markdown",
   "metadata": {},
   "source": [
    "## データの取得"
   ]
  },
  {
   "cell_type": "code",
   "execution_count": 2,
   "metadata": {},
   "outputs": [],
   "source": [
    "from keras.datasets import mnist\n",
    "(x_train, y_train), (x_test, y_test) = mnist.load_data()"
   ]
  },
  {
   "cell_type": "code",
   "execution_count": 3,
   "metadata": {},
   "outputs": [
    {
     "data": {
      "image/png": "[encoded data removed]",
      "text/plain": [
       "<matplotlib.figure.Figure at 0x7f45ebeec908>"
      ]
     },
     "metadata": {},
     "output_type": "display_data"
    },
    {
     "name": "stdout",
     "output_type": "stream",
     "text": [
      "5\n"
     ]
    }
   ],
   "source": [
    "i = 100\n",
    "plt.imshow(x_train[i])\n",
    "plt.show()\n",
    "\n",
    "print(y_train[i])"
   ]
  },
  {
   "cell_type": "code",
   "execution_count": 4,
   "metadata": {},
   "outputs": [],
   "source": [
    "DATA_PATH = \"data/\"\n",
    "\n",
    "with open(DATA_PATH+'mnist_images.pickle', 'wb') as f:\n",
    "    mnist_images = np.r_[x_train, x_test]\n",
    "    pickle.dump(mnist_images, f)\n",
    "\n",
    "with open(DATA_PATH+'mnist_labels.pickle', 'wb') as f:\n",
    "    mnist_labels = np.r_[y_train, y_test]\n",
    "    pickle.dump(mnist_labels, f)"
   ]
  },
  {
   "cell_type": "markdown",
   "metadata": {},
   "source": [
    "## StackedAutoEncoder"
   ]
  },
  {
   "cell_type": "markdown",
   "metadata": {},
   "source": [
    "### 前準備"
   ]
  },
  {
   "cell_type": "code",
   "execution_count": 5,
   "metadata": {},
   "outputs": [],
   "source": [
    "from sklearn.model_selection import train_test_split"
   ]
  },
  {
   "cell_type": "code",
   "execution_count": 6,
   "metadata": {},
   "outputs": [],
   "source": [
    "# データの読み込み\n",
    "with open(DATA_PATH+'mnist_images.pickle', 'rb') as f:\n",
    "    mnist_images = pickle.load(f)\n",
    "    mnist_images = mnist_images.reshape(mnist_images.shape[0], -1)\n",
    "    mnist_images = mnist_images / 255.0\n",
    "\n",
    "with open(DATA_PATH+'mnist_labels.pickle', 'rb') as f:\n",
    "    mnist_labels = pickle.load(f)\n",
    "    mnist_labels = mnist_labels.reshape(mnist_labels.shape[0], -1)"
   ]
  },
  {
   "cell_type": "code",
   "execution_count": 7,
   "metadata": {},
   "outputs": [],
   "source": [
    "X_train, X_test, y_train, y_test = train_test_split(mnist_images, mnist_labels, test_size=0.2, random_state=1000)"
   ]
  },
  {
   "cell_type": "markdown",
   "metadata": {},
   "source": [
    "### モデル"
   ]
  },
  {
   "cell_type": "code",
   "execution_count": 8,
   "metadata": {},
   "outputs": [],
   "source": [
    "import keras\n",
    "from keras.models import Model\n",
    "from keras.layers import Input, Dense, Dropout\n",
    "from keras.initializers import glorot_normal"
   ]
  },
  {
   "cell_type": "code",
   "execution_count": 9,
   "metadata": {},
   "outputs": [],
   "source": [
    "def StackedAutoEncoder(dims, dropout=True):\n",
    "    '''\n",
    "    dimsに従った次元を設定し長ならStackedAutoEncoder\n",
    "    dims[0] : 入力次元\n",
    "    '''\n",
    "    input_data = Input(shape=(dims[0],), name=\"input\")\n",
    "    X = input_data\n",
    "#     print(\"input : {}\".format(X.shape))\n",
    "    n_stack = len(dims) -1 \n",
    "    initializer = glorot_normal(seed=10000)\n",
    "    ### Encoder\n",
    "    for i in range(n_stack):\n",
    "        if i != n_stack - 1:\n",
    "            # Stacked Encoder\n",
    "            if dropout:\n",
    "                X = Dense(dims[i+1], activation=\"relu\", kernel_initializer=initializer, name=\"encoder_%d\" % i)(X)\n",
    "                X = Dropout(0.2)(X)\n",
    "            else:\n",
    "                X = Dense(dims[i+1], activation=\"relu\", kernel_initializer=initializer, name=\"encoder_%d\" % i)(X)\n",
    "        else:\n",
    "            # Encoded Features\n",
    "            encoded = Dense(dims[i+1], kernel_initializer=initializer, name=\"encoded_features\")(X)\n",
    "            X = encoded\n",
    "#         print(\"encoder_{} : {}\".format(i, X.shape))\n",
    "\n",
    "    ### Decoder\n",
    "    for i in range(n_stack+1):\n",
    "        if i != n_stack:\n",
    "            # Stacked Decoder\n",
    "            if dropout:\n",
    "                X = Dense(dims[n_stack-i], activation=\"relu\", kernel_initializer=initializer, name=\"decoder_%d\" % i)(X)\n",
    "                X = Dropout(0.2)(X)\n",
    "            else:\n",
    "                X = Dense(dims[n_stack-i], activation=\"relu\", kernel_initializer=initializer, name=\"decoder_%d\" % i)(X)\n",
    "        else:\n",
    "            # Reconstructed Data\n",
    "            reconstructed = Dense(dims[n_stack-i], kernel_initializer=initializer, name=\"reconstructed_data\")(X)\n",
    "            X = reconstructed\n",
    "#         print(\"decoder_{} : {}\".format(i, X.shape))\n",
    "    \n",
    "    model = Model(input=input_data, output=reconstructed)\n",
    "\n",
    "    return model"
   ]
  },
  {
   "cell_type": "code",
   "execution_count": 10,
   "metadata": {},
   "outputs": [
    {
     "name": "stdout",
     "output_type": "stream",
     "text": [
      "_________________________________________________________________\n",
      "Layer (type)                 Output Shape              Param #   \n",
      "=================================================================\n",
      "input (InputLayer)           (None, 784)               0         \n",
      "_________________________________________________________________\n",
      "encoder_0 (Dense)            (None, 500)               392500    \n",
      "_________________________________________________________________\n",
      "dropout_1 (Dropout)          (None, 500)               0         \n",
      "_________________________________________________________________\n",
      "encoder_1 (Dense)            (None, 500)               250500    \n",
      "_________________________________________________________________\n",
      "dropout_2 (Dropout)          (None, 500)               0         \n",
      "_________________________________________________________________\n",
      "encoder_2 (Dense)            (None, 2000)              1002000   \n",
      "_________________________________________________________________\n",
      "dropout_3 (Dropout)          (None, 2000)              0         \n",
      "_________________________________________________________________\n",
      "encoded_features (Dense)     (None, 10)                20010     \n",
      "_________________________________________________________________\n",
      "decoder_0 (Dense)            (None, 10)                110       \n",
      "_________________________________________________________________\n",
      "dropout_4 (Dropout)          (None, 10)                0         \n",
      "_________________________________________________________________\n",
      "decoder_1 (Dense)            (None, 2000)              22000     \n",
      "_________________________________________________________________\n",
      "dropout_5 (Dropout)          (None, 2000)              0         \n",
      "_________________________________________________________________\n",
      "decoder_2 (Dense)            (None, 500)               1000500   \n",
      "_________________________________________________________________\n",
      "dropout_6 (Dropout)          (None, 500)               0         \n",
      "_________________________________________________________________\n",
      "decoder_3 (Dense)            (None, 500)               250500    \n",
      "_________________________________________________________________\n",
      "dropout_7 (Dropout)          (None, 500)               0         \n",
      "_________________________________________________________________\n",
      "reconstructed_data (Dense)   (None, 784)               392784    \n",
      "=================================================================\n",
      "Total params: 3,330,904\n",
      "Trainable params: 3,330,904\n",
      "Non-trainable params: 0\n",
      "_________________________________________________________________\n"
     ]
    },
    {
     "name": "stderr",
     "output_type": "stream",
     "text": [
      "/home/k-syo/.pyenv/versions/anaconda3-5.1.0/lib/python3.6/site-packages/ipykernel_launcher.py:41: UserWarning: Update your `Model` call to the Keras 2 API: `Model(inputs=Tensor(\"in..., outputs=Tensor(\"re...)`\n"
     ]
    }
   ],
   "source": [
    "dims = [X_train.shape[-1], 500, 500, 2000, 10]\n",
    "autoencoder = StackedAutoEncoder(dims)\n",
    "autoencoder.summary()"
   ]
  },
  {
   "cell_type": "code",
   "execution_count": 11,
   "metadata": {},
   "outputs": [],
   "source": [
    "# from keras.utils import plot_model\n",
    "# plot_model(autoencoder, to_file=\"images/autoencoder.png\", show_shapes=True)\n",
    "\n",
    "# from IPython.display import Image\n",
    "# Image(filename=\"images/autoencoder.png\")"
   ]
  },
  {
   "cell_type": "markdown",
   "metadata": {},
   "source": [
    "### 事前学習"
   ]
  },
  {
   "cell_type": "code",
   "execution_count": 31,
   "metadata": {},
   "outputs": [],
   "source": [
    "from keras.optimizers import Adam, SGD\n",
    "from keras.callbacks import LearningRateScheduler, EarlyStopping"
   ]
  },
  {
   "cell_type": "code",
   "execution_count": 32,
   "metadata": {},
   "outputs": [],
   "source": [
    "# 学習率を少しずつ下げるようにする\n",
    "def train(model, inputs, targets, X_val, Y_val, batch_size=100, epoch_count=100, \n",
    "              model_path=\"models/model.h5\", learning_rate=0.01):\n",
    "    # 学習率\n",
    "    start = learning_rate\n",
    "    stop = learning_rate * (1/epoch_count)\n",
    "    learning_rates = np.linspace(start, stop, epoch_count)\n",
    "\n",
    "    # 最適化手法\n",
    "#     optimizer = Adam(lr=learning_rate)\n",
    "    optimizer = SGD(lr=1, momentum=0.9)\n",
    "    model.compile(loss=\"mse\", optimizer=optimizer)\n",
    "\n",
    "    # 学習\n",
    "    fit = model.fit(inputs, targets, \n",
    "                        validation_data=(X_val, Y_val),\n",
    "                        epochs=epoch_count,\n",
    "                        batch_size=batch_size,\n",
    "                        verbose=1,\n",
    "                        shuffle=True,\n",
    "#                         callbacks=[LearningRateScheduler(lambda epoch: learning_rates[epoch]),]\n",
    "                        callbacks=[EarlyStopping(monitor='val_loss', patience=5, verbose=0, mode='auto')]\n",
    "                )\n",
    "\n",
    "    # モデルの保存\n",
    "    model.save(model_path)\n",
    "    \n",
    "    return fit"
   ]
  },
  {
   "cell_type": "code",
   "execution_count": 33,
   "metadata": {
    "scrolled": false
   },
   "outputs": [
    {
     "name": "stderr",
     "output_type": "stream",
     "text": [
      "/home/k-syo/.pyenv/versions/anaconda3-5.1.0/lib/python3.6/site-packages/ipykernel_launcher.py:41: UserWarning: Update your `Model` call to the Keras 2 API: `Model(inputs=Tensor(\"in..., outputs=Tensor(\"re...)`\n"
     ]
    },
    {
     "name": "stdout",
     "output_type": "stream",
     "text": [
      "Train on 56000 samples, validate on 14000 samples\n",
      "Epoch 1/100\n",
      "56000/56000 [==============================] - 16s 280us/step - loss: 0.0666 - val_loss: 0.0590\n",
      "Epoch 2/100\n",
      "56000/56000 [==============================] - 15s 264us/step - loss: 0.0569 - val_loss: 0.0530\n",
      "Epoch 3/100\n",
      "56000/56000 [==============================] - 15s 264us/step - loss: 0.0517 - val_loss: 0.0490\n",
      "Epoch 4/100\n",
      "56000/56000 [==============================] - 15s 263us/step - loss: 0.0492 - val_loss: 0.0475\n",
      "Epoch 5/100\n",
      "56000/56000 [==============================] - 15s 262us/step - loss: 0.0476 - val_loss: 0.0458\n",
      "Epoch 6/100\n",
      "56000/56000 [==============================] - 15s 266us/step - loss: 0.0461 - val_loss: 0.0445\n",
      "Epoch 7/100\n",
      "56000/56000 [==============================] - 15s 267us/step - loss: 0.0447 - val_loss: 0.0428\n",
      "Epoch 8/100\n",
      "56000/56000 [==============================] - 15s 268us/step - loss: 0.0434 - val_loss: 0.0412\n",
      "Epoch 9/100\n",
      "56000/56000 [==============================] - 15s 261us/step - loss: 0.0422 - val_loss: 0.0405\n",
      "Epoch 10/100\n",
      "56000/56000 [==============================] - 15s 264us/step - loss: 0.0412 - val_loss: 0.0399\n",
      "Epoch 11/100\n",
      "56000/56000 [==============================] - 15s 268us/step - loss: 0.0403 - val_loss: 0.0381\n",
      "Epoch 12/100\n",
      "56000/56000 [==============================] - 15s 261us/step - loss: 0.0396 - val_loss: 0.0385\n",
      "Epoch 13/100\n",
      "56000/56000 [==============================] - 15s 262us/step - loss: 0.0390 - val_loss: 0.0374\n",
      "Epoch 14/100\n",
      "56000/56000 [==============================] - 15s 261us/step - loss: 0.0385 - val_loss: 0.0367\n",
      "Epoch 15/100\n",
      "56000/56000 [==============================] - 15s 264us/step - loss: 0.0380 - val_loss: 0.0365\n",
      "Epoch 16/100\n",
      "56000/56000 [==============================] - 15s 264us/step - loss: 0.0376 - val_loss: 0.0359\n",
      "Epoch 17/100\n",
      "56000/56000 [==============================] - 15s 263us/step - loss: 0.0372 - val_loss: 0.0357\n",
      "Epoch 18/100\n",
      "56000/56000 [==============================] - 15s 266us/step - loss: 0.0368 - val_loss: 0.0355\n",
      "Epoch 19/100\n",
      "56000/56000 [==============================] - 15s 268us/step - loss: 0.0365 - val_loss: 0.0350\n",
      "Epoch 20/100\n",
      "56000/56000 [==============================] - 15s 263us/step - loss: 0.0362 - val_loss: 0.0353\n",
      "Epoch 21/100\n",
      "56000/56000 [==============================] - 15s 265us/step - loss: 0.0359 - val_loss: 0.0353\n",
      "Epoch 22/100\n",
      "56000/56000 [==============================] - 15s 264us/step - loss: 0.0356 - val_loss: 0.0347\n",
      "Epoch 23/100\n",
      "56000/56000 [==============================] - 15s 263us/step - loss: 0.0354 - val_loss: 0.0345\n",
      "Epoch 24/100\n",
      "56000/56000 [==============================] - 15s 265us/step - loss: 0.0351 - val_loss: 0.0341\n",
      "Epoch 25/100\n",
      "56000/56000 [==============================] - 15s 264us/step - loss: 0.0349 - val_loss: 0.0339\n",
      "Epoch 26/100\n",
      "56000/56000 [==============================] - 15s 271us/step - loss: 0.0347 - val_loss: 0.0339\n",
      "Epoch 27/100\n",
      "56000/56000 [==============================] - 15s 265us/step - loss: 0.0345 - val_loss: 0.0330\n",
      "Epoch 28/100\n",
      "56000/56000 [==============================] - 15s 264us/step - loss: 0.0342 - val_loss: 0.0322\n",
      "Epoch 29/100\n",
      "56000/56000 [==============================] - 15s 264us/step - loss: 0.0340 - val_loss: 0.0329\n",
      "Epoch 30/100\n",
      "56000/56000 [==============================] - 15s 261us/step - loss: 0.0339 - val_loss: 0.0325\n",
      "Epoch 31/100\n",
      "56000/56000 [==============================] - 15s 261us/step - loss: 0.0337 - val_loss: 0.0324\n",
      "Epoch 32/100\n",
      "56000/56000 [==============================] - 15s 265us/step - loss: 0.0336 - val_loss: 0.0327\n",
      "Epoch 33/100\n",
      "56000/56000 [==============================] - 15s 263us/step - loss: 0.0334 - val_loss: 0.0322\n"
     ]
    }
   ],
   "source": [
    "MODEL_PATH = \"models/\"\n",
    "dims = [X_train.shape[-1], 500, 500, 2000, 10]\n",
    "model = StackedAutoEncoder(dims)\n",
    "\n",
    "fit = train(model, X_train, X_train, X_test, X_test, 200, 100, model_path=MODEL_PATH+\"pre_ae_weights.h5\")"
   ]
  },
  {
   "cell_type": "code",
   "execution_count": 26,
   "metadata": {},
   "outputs": [
    {
     "data": {
      "image/png": "[encoded data removed]",
      "text/plain": [
       "<matplotlib.figure.Figure at 0x7f44b46e5198>"
      ]
     },
     "metadata": {},
     "output_type": "display_data"
    }
   ],
   "source": [
    "plt.plot(fit.history['loss'],label=\"loss for training\")\n",
    "plt.title(\"Learning Curve\")\n",
    "plt.xlabel(\"epochs\")\n",
    "plt.ylabel(\"mean squared error\")\n",
    "plt.legend()\n",
    "plt.show()\n",
    "\n",
    "# テストデータに対する精度\n",
    "# ret = predict(np.array(X_test),model_filepath=model_name).reshape(-1)\n",
    "# accuracy_score(Y_test, np.round(ret))"
   ]
  },
  {
   "cell_type": "code",
   "execution_count": 28,
   "metadata": {},
   "outputs": [],
   "source": [
    "from keras.models import load_model"
   ]
  },
  {
   "cell_type": "code",
   "execution_count": 29,
   "metadata": {},
   "outputs": [],
   "source": [
    "model = load_model(MODEL_PATH+\"pre_ae_weights.h5\")"
   ]
  },
  {
   "cell_type": "code",
   "execution_count": null,
   "metadata": {},
   "outputs": [],
   "source": []
  },
  {
   "cell_type": "code",
   "execution_count": null,
   "metadata": {},
   "outputs": [],
   "source": [
    "def predict(comments, model_filepath=\"models/model.h5\"):\n",
    "    model = load_model(model_filepath)\n",
    "    ret = model.predict(comments)\n",
    "    return ret"
   ]
  }
 ],
 "metadata": {
  "kernelspec": {
   "display_name": "Python 3",
   "language": "python",
   "name": "python3"
  },
  "toc": {
   "base_numbering": 1,
   "nav_menu": {},
   "number_sections": true,
   "sideBar": true,
   "skip_h1_title": false,
   "title_cell": "Table of Contents",
   "title_sidebar": "Contents",
   "toc_cell": false,
   "toc_position": {},
   "toc_section_display": true,
   "toc_window_display": true
  }
 },
 "nbformat": 4,
 "nbformat_minor": 2
}
